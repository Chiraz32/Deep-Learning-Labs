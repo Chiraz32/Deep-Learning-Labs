{
  "nbformat": 4,
  "nbformat_minor": 0,
  "metadata": {
    "colab": {
      "provenance": [],
      "gpuType": "T4",
      "include_colab_link": true
    },
    "kernelspec": {
      "name": "python3",
      "display_name": "Python 3"
    },
    "language_info": {
      "name": "python"
    },
    "accelerator": "GPU"
  },
  "cells": [
    {
      "cell_type": "markdown",
      "metadata": {
        "id": "view-in-github",
        "colab_type": "text"
      },
      "source": [
        "<a href=\"https://colab.research.google.com/github/Chiraz32/Deep-Learning-Labs/blob/main/TP3_BEN_MBAREK__Ranim_DOSS_Chiraz_SEDDIK_Farah.ipynb\" target=\"_parent\"><img src=\"https://colab.research.google.com/assets/colab-badge.svg\" alt=\"Open In Colab\"/></a>"
      ]
    },
    {
      "cell_type": "markdown",
      "source": [
        "###Construction du 1er réseau  "
      ],
      "metadata": {
        "id": "jq-TF_r8Br1f"
      }
    },
    {
      "cell_type": "code",
      "execution_count": null,
      "metadata": {
        "id": "IiYDVaq6Oz5K"
      },
      "outputs": [],
      "source": [
        "import numpy as np\n",
        "from keras.utils import to_categorical\n",
        "from keras.datasets import mnist\n",
        "from keras import backend as K\n",
        "K.set_image_data_format('channels_first')\n",
        "#fix random seed for reproducibility\n",
        "seed = 7\n",
        "np.random.seed(seed)\n",
        "from keras.models import Sequential\n",
        "from keras.layers import Dense\n",
        "from keras.layers import Dropout\n",
        "from keras.layers import Flatten\n",
        "from keras.layers import Conv2D\n",
        "from keras.layers import MaxPooling2D"
      ]
    },
    {
      "cell_type": "code",
      "source": [
        "def get_data_mnist() :\n",
        "#load data\n",
        "  (X_train, y_train),(X_test, y_test)= mnist.load_data()\n",
        "# reshape to be [samples][pixels][width][height]\n",
        "  X_train = X_train.reshape(X_train.shape[0], 1, 28,28).astype ('float32')\n",
        "  X_test = X_test.reshape(X_test.shape[0], 1, 28, 28).astype ('float32')\n",
        "#one hot encode outputs\n",
        "  y_train = to_categorical(y_train)\n",
        "  y_test = to_categorical(y_test)\n",
        "  num_classes = y_test.shape[1]\n",
        "  return (X_train, y_train), (X_test, y_test), num_classes"
      ],
      "metadata": {
        "id": "Oq-vFB3bSiDB"
      },
      "execution_count": null,
      "outputs": []
    },
    {
      "cell_type": "code",
      "source": [
        "def small_model():\n",
        "  model = Sequential()\n",
        "  model.add(Conv2D(64, (3, 3), input_shape=(1, 28, 28), activation='relu'))\n",
        "  model.add(Conv2D(32, (3, 3), activation='relu'))\n",
        "  model.add(Flatten())\n",
        "  model.add(Dense(num_classes, activation='softmax'))\n",
        "#compile model\n",
        "  model.compile(loss='categorical_crossentropy',\n",
        "              optimizer='adam',\n",
        "              metrics=['accuracy'])\n",
        "  model.summary()\n",
        "  return model"
      ],
      "metadata": {
        "id": "vZuifE06Tp3P"
      },
      "execution_count": null,
      "outputs": []
    },
    {
      "cell_type": "code",
      "source": [
        "def print_model_error_rate(model, X_test, y_test):\n",
        "\n",
        "# Final evaluation of the model\n",
        "  scores = model.evaluate(X_test, y_test, verbose=0)\n",
        "  print(\"Model score : %.2f%%\" % (scores[1]*100))\n",
        "  print(\"Model error rate : %.2f%%\" % (100-scores[1]*100))"
      ],
      "metadata": {
        "id": "BICSPzm8UzrJ"
      },
      "execution_count": null,
      "outputs": []
    },
    {
      "cell_type": "markdown",
      "source": [
        "### construction du plusieurs modèles"
      ],
      "metadata": {
        "id": "d9Kun5rACol5"
      }
    },
    {
      "cell_type": "markdown",
      "source": [
        "1- small model with non normalised data\n",
        "\n"
      ],
      "metadata": {
        "id": "XcntTw3MCCa6"
      }
    },
    {
      "cell_type": "code",
      "source": [
        "(X_train, y_train), (X_test, y_test), num_classes =get_data_mnist()\n",
        "model= small_model()\n",
        "model.fit(X_train, y_train,\n",
        "                        validation_data=(X_test, y_test),\n",
        "                        epochs=10,\n",
        "                        batch_size=200,\n",
        "                        verbose=0)\n",
        "\n",
        "print_model_error_rate(model,X_test,y_test)\n"
      ],
      "metadata": {
        "colab": {
          "base_uri": "https://localhost:8080/"
        },
        "id": "w5tGiAxUVmmX",
        "outputId": "dfca75ad-361f-4387-ae15-d3980cf29c3b"
      },
      "execution_count": null,
      "outputs": [
        {
          "output_type": "stream",
          "name": "stdout",
          "text": [
            "Downloading data from https://storage.googleapis.com/tensorflow/tf-keras-datasets/mnist.npz\n",
            "11490434/11490434 [==============================] - 0s 0us/step\n",
            "Model: \"sequential\"\n",
            "_________________________________________________________________\n",
            " Layer (type)                Output Shape              Param #   \n",
            "=================================================================\n",
            " conv2d (Conv2D)             (None, 64, 26, 26)        640       \n",
            "                                                                 \n",
            " conv2d_1 (Conv2D)           (None, 32, 24, 24)        18464     \n",
            "                                                                 \n",
            " flatten (Flatten)           (None, 18432)             0         \n",
            "                                                                 \n",
            " dense (Dense)               (None, 10)                184330    \n",
            "                                                                 \n",
            "=================================================================\n",
            "Total params: 203434 (794.66 KB)\n",
            "Trainable params: 203434 (794.66 KB)\n",
            "Non-trainable params: 0 (0.00 Byte)\n",
            "_________________________________________________________________\n",
            "Model score : 97.81%\n",
            "Model error rate : 2.19%\n"
          ]
        }
      ]
    },
    {
      "cell_type": "code",
      "source": [
        "def get_data_mnist_normalized():\n",
        "    # Charger les données\n",
        "    (X_train, y_train), (X_test, y_test) = mnist.load_data()\n",
        "\n",
        "    # Normalisation des données\n",
        "    X_train = X_train.reshape(X_train.shape[0], 1, 28, 28).astype('float32') / 255\n",
        "    X_test = X_test.reshape(X_test.shape[0], 1, 28, 28).astype('float32') / 255\n",
        "\n",
        "    # Encodage one-hot des étiquettes de classe\n",
        "    y_train = to_categorical(y_train)\n",
        "    y_test = to_categorical(y_test)\n",
        "\n",
        "    num_classes = y_test.shape[1]\n",
        "\n",
        "    return (X_train, y_train), (X_test, y_test), num_classes"
      ],
      "metadata": {
        "id": "aA7n0Ne4e8H4"
      },
      "execution_count": null,
      "outputs": []
    },
    {
      "cell_type": "markdown",
      "source": [
        "2- small model with normalized data"
      ],
      "metadata": {
        "id": "rQQTfkefCKhI"
      }
    },
    {
      "cell_type": "code",
      "source": [
        "(X_train, y_train), (X_test, y_test), num_classes =get_data_mnist_normalized()\n",
        "model= small_model()\n",
        "model.fit(X_train, y_train,\n",
        "                        validation_data=(X_test, y_test),\n",
        "                        epochs=10,\n",
        "                        batch_size=200,\n",
        "                        verbose=0)\n",
        "\n",
        "print_model_error_rate(model,X_test,y_test)"
      ],
      "metadata": {
        "colab": {
          "base_uri": "https://localhost:8080/"
        },
        "id": "YTFcLdiafEoE",
        "outputId": "6f916f99-05af-4d7d-8f52-238c2c58d9e8"
      },
      "execution_count": null,
      "outputs": [
        {
          "output_type": "stream",
          "name": "stdout",
          "text": [
            "Model: \"sequential_1\"\n",
            "_________________________________________________________________\n",
            " Layer (type)                Output Shape              Param #   \n",
            "=================================================================\n",
            " conv2d_2 (Conv2D)           (None, 64, 26, 26)        640       \n",
            "                                                                 \n",
            " conv2d_3 (Conv2D)           (None, 32, 24, 24)        18464     \n",
            "                                                                 \n",
            " flatten_1 (Flatten)         (None, 18432)             0         \n",
            "                                                                 \n",
            " dense_1 (Dense)             (None, 10)                184330    \n",
            "                                                                 \n",
            "=================================================================\n",
            "Total params: 203434 (794.66 KB)\n",
            "Trainable params: 203434 (794.66 KB)\n",
            "Non-trainable params: 0 (0.00 Byte)\n",
            "_________________________________________________________________\n",
            "Model score : 98.72%\n",
            "Model error rate : 1.28%\n"
          ]
        }
      ]
    },
    {
      "cell_type": "code",
      "source": [
        "def medium_model():\n",
        "    model = Sequential()\n",
        "    model.add(Conv2D(32, (5, 5), input_shape=(1, 28, 28), activation='relu'))\n",
        "    model.add(MaxPooling2D(pool_size=(2, 2)))\n",
        "    model.add(Dropout(0.2))\n",
        "    model.add(Flatten())\n",
        "    model.add(Dense(128, activation='relu'))\n",
        "    model.add(Dense(num_classes, activation='softmax'))\n",
        "    model.compile(loss='categorical_crossentropy',\n",
        "              optimizer='adam',\n",
        "              metrics=['accuracy'])\n",
        "    model.summary()\n",
        "    return model\n"
      ],
      "metadata": {
        "id": "Z9-t46f9fVg1"
      },
      "execution_count": null,
      "outputs": []
    },
    {
      "cell_type": "markdown",
      "source": [
        "2- medium model with normalized data"
      ],
      "metadata": {
        "id": "I41yovtKCV12"
      }
    },
    {
      "cell_type": "code",
      "source": [
        "(X_train, y_train), (X_test, y_test), num_classes =get_data_mnist_normalized()\n",
        "model= medium_model()\n",
        "model.fit(X_train, y_train,\n",
        "                        validation_data=(X_test, y_test),\n",
        "                        epochs=10,\n",
        "                        batch_size=200,\n",
        "                        verbose=0)\n",
        "\n",
        "print_model_error_rate(model,X_test,y_test)"
      ],
      "metadata": {
        "colab": {
          "base_uri": "https://localhost:8080/"
        },
        "id": "gNi1eTqhfjRo",
        "outputId": "4bf846c1-ae8a-4137-b344-1cf610a86a9f"
      },
      "execution_count": null,
      "outputs": [
        {
          "output_type": "stream",
          "name": "stdout",
          "text": [
            "Model: \"sequential_2\"\n",
            "_________________________________________________________________\n",
            " Layer (type)                Output Shape              Param #   \n",
            "=================================================================\n",
            " conv2d_4 (Conv2D)           (None, 32, 24, 24)        832       \n",
            "                                                                 \n",
            " max_pooling2d (MaxPooling2  (None, 32, 12, 12)        0         \n",
            " D)                                                              \n",
            "                                                                 \n",
            " dropout (Dropout)           (None, 32, 12, 12)        0         \n",
            "                                                                 \n",
            " flatten_2 (Flatten)         (None, 4608)              0         \n",
            "                                                                 \n",
            " dense_2 (Dense)             (None, 128)               589952    \n",
            "                                                                 \n",
            " dense_3 (Dense)             (None, 10)                1290      \n",
            "                                                                 \n",
            "=================================================================\n",
            "Total params: 592074 (2.26 MB)\n",
            "Trainable params: 592074 (2.26 MB)\n",
            "Non-trainable params: 0 (0.00 Byte)\n",
            "_________________________________________________________________\n",
            "Model score : 98.97%\n",
            "Model error rate : 1.03%\n"
          ]
        }
      ]
    },
    {
      "cell_type": "code",
      "source": [
        "def large_model():\n",
        "    model = Sequential()\n",
        "    model.add(Conv2D(30, (5, 5), input_shape=(1, 28, 28), activation='relu'))\n",
        "    model.add(MaxPooling2D(pool_size=(2, 2)))\n",
        "    model.add(Conv2D(15, (3, 3), activation='relu'))\n",
        "    model.add(Dropout(0.2))\n",
        "    model.add(Flatten())\n",
        "    model.add(Dense(128, activation='relu'))\n",
        "    model.add(Dense(50, activation='relu'))\n",
        "    model.add(Dense(num_classes, activation='softmax'))\n",
        "    model.summary()\n",
        "    model.compile(loss='categorical_crossentropy',\n",
        "                        optimizer='adam',\n",
        "                        metrics=['accuracy'])\n",
        "    return model"
      ],
      "metadata": {
        "id": "o1aKwQARgBg9"
      },
      "execution_count": null,
      "outputs": []
    },
    {
      "cell_type": "markdown",
      "source": [
        "3- large model with normalized data"
      ],
      "metadata": {
        "id": "BdHA2aLGCYbJ"
      }
    },
    {
      "cell_type": "code",
      "source": [
        "(X_train, y_train), (X_test, y_test), num_classes =get_data_mnist_normalized()\n",
        "model=large_model()\n",
        "model.fit(X_train, y_train,\n",
        "                        validation_data=(X_test, y_test),\n",
        "                        epochs=10,\n",
        "                        batch_size=200,\n",
        "                        verbose=0)\n",
        "\n",
        "print_model_error_rate(model,X_test,y_test)"
      ],
      "metadata": {
        "colab": {
          "base_uri": "https://localhost:8080/"
        },
        "id": "C8NwVnJggS48",
        "outputId": "13bf4b8c-5139-49a2-e308-b97718648567"
      },
      "execution_count": null,
      "outputs": [
        {
          "output_type": "stream",
          "name": "stdout",
          "text": [
            "Model: \"sequential_3\"\n",
            "_________________________________________________________________\n",
            " Layer (type)                Output Shape              Param #   \n",
            "=================================================================\n",
            " conv2d_5 (Conv2D)           (None, 30, 24, 24)        780       \n",
            "                                                                 \n",
            " max_pooling2d_1 (MaxPoolin  (None, 30, 12, 12)        0         \n",
            " g2D)                                                            \n",
            "                                                                 \n",
            " conv2d_6 (Conv2D)           (None, 15, 10, 10)        4065      \n",
            "                                                                 \n",
            " dropout_1 (Dropout)         (None, 15, 10, 10)        0         \n",
            "                                                                 \n",
            " flatten_3 (Flatten)         (None, 1500)              0         \n",
            "                                                                 \n",
            " dense_4 (Dense)             (None, 128)               192128    \n",
            "                                                                 \n",
            " dense_5 (Dense)             (None, 50)                6450      \n",
            "                                                                 \n",
            " dense_6 (Dense)             (None, 10)                510       \n",
            "                                                                 \n",
            "=================================================================\n",
            "Total params: 203933 (796.61 KB)\n",
            "Trainable params: 203933 (796.61 KB)\n",
            "Non-trainable params: 0 (0.00 Byte)\n",
            "_________________________________________________________________\n",
            "Model score : 99.18%\n",
            "Model error rate : 0.82%\n"
          ]
        }
      ]
    },
    {
      "cell_type": "markdown",
      "source": [
        "4- save & load model"
      ],
      "metadata": {
        "id": "eHO-smYkDn6U"
      }
    },
    {
      "cell_type": "code",
      "source": [
        "from keras.models import model_from_json\n",
        "# This function saves a model on the drive using two files: a json and a h5\n",
        "def save_keras_model(model, filename):\n",
        "    # serialize model to JSON\n",
        "    model_json = model.to_json()\n",
        "    with open(filename+\".json\", \"w\") as json_file:\n",
        "        json_file.write(model_json)\n",
        "        # serialize weights to HDF5\n",
        "        model.save_weights(filename+\".h5\")"
      ],
      "metadata": {
        "id": "xWUYIInHgoX5"
      },
      "execution_count": null,
      "outputs": []
    },
    {
      "cell_type": "code",
      "source": [
        "\n",
        "def load_keras_model(filename):\n",
        "    # load json and create model\n",
        "    json_file = open(filename+\".json\", 'r')\n",
        "    loaded_model_json = json_file.read()\n",
        "    json_file.close()\n",
        "    loaded_model = model_from_json(loaded_model_json)\n",
        "    # load weights into new model\n",
        "    loaded_model.load_weights(filename+\".h5\")\n",
        "    return loaded_model"
      ],
      "metadata": {
        "id": "EG-1Pc-shJ9C"
      },
      "execution_count": null,
      "outputs": []
    },
    {
      "cell_type": "code",
      "source": [
        "save_keras_model(model, 'small model')\n",
        "model_loaded= load_keras_model('small model')\n",
        "model_loaded.compile(loss='categorical_crossentropy',\n",
        "                        optimizer='adam',\n",
        "                        metrics=['accuracy'])\n",
        "model_loaded.fit(X_train, y_train,\n",
        "                        validation_data=(X_test, y_test),\n",
        "                        epochs=10,\n",
        "                        batch_size=200,\n",
        "                        verbose=0)\n",
        "\n",
        "print_model_error_rate(model_loaded,X_test,y_test)"
      ],
      "metadata": {
        "id": "WHdrmCbxhzTQ",
        "colab": {
          "base_uri": "https://localhost:8080/"
        },
        "outputId": "08a6ee2c-2fba-4a58-fb4d-82771fbf75a6"
      },
      "execution_count": null,
      "outputs": [
        {
          "output_type": "stream",
          "name": "stdout",
          "text": [
            "Model score : 99.29%\n",
            "Model error rate : 0.71%\n"
          ]
        }
      ]
    }
  ]
}